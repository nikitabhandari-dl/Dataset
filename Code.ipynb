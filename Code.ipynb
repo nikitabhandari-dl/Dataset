{
 "cells": [
  {
   "cell_type": "code",
   "execution_count": 1,
   "metadata": {},
   "outputs": [
    {
     "name": "stderr",
     "output_type": "stream",
     "text": [
      "Using TensorFlow backend.\n"
     ]
    }
   ],
   "source": [
    "# Imports \n",
    "import pandas as pd\n",
    "import numpy as np\n",
    "from numpy.random import shuffle\n",
    "import math  \n",
    "from keras.preprocessing.text import Tokenizer\n",
    "from sklearn.preprocessing import LabelEncoder\n",
    "from sklearn.ensemble import ExtraTreesClassifier, GradientBoostingClassifier, RandomForestClassifier\n",
    "from sklearn.metrics import accuracy_score,  confusion_matrix, classification_report, roc_auc_score, roc_curve\n",
    "from sklearn.model_selection import train_test_split\n",
    "import matplotlib.pyplot as plt\n",
    "%matplotlib inline\n",
    "from sklearn.metrics import recall_score\n",
    "from sklearn.metrics import roc_auc_score, roc_curve\n",
    "from sklearn.preprocessing import OneHotEncoder\n",
    "from keras.models import Sequential\n",
    "from keras.layers.convolutional import Conv1D, MaxPooling1D\n",
    "from keras.layers import Dense, Dropout, Activation, Flatten\n",
    "from keras.callbacks import EarlyStopping\n",
    "import tensorflow as tf"
   ]
  },
  {
   "cell_type": "code",
   "execution_count": 31,
   "metadata": {},
   "outputs": [],
   "source": [
    "df_promoter = pd.read_csv(\"file name\",names = ['Y', 'X'])"
   ]
  },
  {
   "cell_type": "code",
   "execution_count": 32,
   "metadata": {},
   "outputs": [],
   "source": [
    "df_promoter_shuffle = pd.read_csv(\"file name\",names = ['Y', 'X'])"
   ]
  },
  {
   "cell_type": "code",
   "execution_count": 33,
   "metadata": {},
   "outputs": [],
   "source": [
    "df_promoter_shuffle.drop(df_promoter_shuffle.index[0])\n",
    "df_promoter_shuffle.reset_index(inplace = True)\n",
    "df_promoter_shuffle.drop(['index'], axis = 1, inplace= True)"
   ]
  },
  {
   "cell_type": "code",
   "execution_count": 34,
   "metadata": {},
   "outputs": [],
   "source": [
    "df_promoter_shuffle['Y'] = 'Shuffled Promoters'\n"
   ]
  },
  {
   "cell_type": "code",
   "execution_count": 35,
   "metadata": {},
   "outputs": [
    {
     "data": {
      "text/html": [
       "<div>\n",
       "<style scoped>\n",
       "    .dataframe tbody tr th:only-of-type {\n",
       "        vertical-align: middle;\n",
       "    }\n",
       "\n",
       "    .dataframe tbody tr th {\n",
       "        vertical-align: top;\n",
       "    }\n",
       "\n",
       "    .dataframe thead th {\n",
       "        text-align: right;\n",
       "    }\n",
       "</style>\n",
       "<table border=\"1\" class=\"dataframe\">\n",
       "  <thead>\n",
       "    <tr style=\"text-align: right;\">\n",
       "      <th></th>\n",
       "      <th>Y</th>\n",
       "      <th>X</th>\n",
       "    </tr>\n",
       "  </thead>\n",
       "  <tbody>\n",
       "    <tr>\n",
       "      <th>0</th>\n",
       "      <td>Shuffled Promoters</td>\n",
       "      <td>ACCCGTTCGTAAAATTGGCGTTTGTCTCTAGTTTGCGATAGTGTAG...</td>\n",
       "    </tr>\n",
       "    <tr>\n",
       "      <th>1</th>\n",
       "      <td>Shuffled Promoters</td>\n",
       "      <td>ACATATCAAACTACAATAATACTGCCCTGCTAAATTAGCGGTACCC...</td>\n",
       "    </tr>\n",
       "    <tr>\n",
       "      <th>2</th>\n",
       "      <td>Shuffled Promoters</td>\n",
       "      <td>GAGTAGAGCAACCAACTCACAATGCATAACTAAGATACAAACTTTA...</td>\n",
       "    </tr>\n",
       "    <tr>\n",
       "      <th>3</th>\n",
       "      <td>Shuffled Promoters</td>\n",
       "      <td>AACACTTATTTTATTGTGGTAATATTTTTTGATAACAACACATCTG...</td>\n",
       "    </tr>\n",
       "    <tr>\n",
       "      <th>4</th>\n",
       "      <td>Shuffled Promoters</td>\n",
       "      <td>AATTACTTCATCATTACCACCTGTTACCAGTACAACAACAAGTCAG...</td>\n",
       "    </tr>\n",
       "  </tbody>\n",
       "</table>\n",
       "</div>"
      ],
      "text/plain": [
       "                    Y                                                  X\n",
       "0  Shuffled Promoters  ACCCGTTCGTAAAATTGGCGTTTGTCTCTAGTTTGCGATAGTGTAG...\n",
       "1  Shuffled Promoters  ACATATCAAACTACAATAATACTGCCCTGCTAAATTAGCGGTACCC...\n",
       "2  Shuffled Promoters  GAGTAGAGCAACCAACTCACAATGCATAACTAAGATACAAACTTTA...\n",
       "3  Shuffled Promoters  AACACTTATTTTATTGTGGTAATATTTTTTGATAACAACACATCTG...\n",
       "4  Shuffled Promoters  AATTACTTCATCATTACCACCTGTTACCAGTACAACAACAAGTCAG..."
      ]
     },
     "execution_count": 35,
     "metadata": {},
     "output_type": "execute_result"
    }
   ],
   "source": [
    "df_promoter_shuffle.head()"
   ]
  },
  {
   "cell_type": "code",
   "execution_count": 36,
   "metadata": {},
   "outputs": [
    {
     "data": {
      "text/html": [
       "<div>\n",
       "<style scoped>\n",
       "    .dataframe tbody tr th:only-of-type {\n",
       "        vertical-align: middle;\n",
       "    }\n",
       "\n",
       "    .dataframe tbody tr th {\n",
       "        vertical-align: top;\n",
       "    }\n",
       "\n",
       "    .dataframe thead th {\n",
       "        text-align: right;\n",
       "    }\n",
       "</style>\n",
       "<table border=\"1\" class=\"dataframe\">\n",
       "  <thead>\n",
       "    <tr style=\"text-align: right;\">\n",
       "      <th></th>\n",
       "      <th>Y</th>\n",
       "      <th>X</th>\n",
       "    </tr>\n",
       "  </thead>\n",
       "  <tbody>\n",
       "    <tr>\n",
       "      <th>0</th>\n",
       "      <td>Shuffled Promoters</td>\n",
       "      <td>TTGTAGTAGCAGGCGTCAAGATGTAAAATGGCCATGTACTTAATGA...</td>\n",
       "    </tr>\n",
       "    <tr>\n",
       "      <th>1</th>\n",
       "      <td>Shuffled Promoters</td>\n",
       "      <td>GCCCTAACCTGAGTACGCCGGTTCACCAAACCGCAACTTGAACTGA...</td>\n",
       "    </tr>\n",
       "    <tr>\n",
       "      <th>2</th>\n",
       "      <td>Shuffled Promoters</td>\n",
       "      <td>CAGCGATAGGTTAATGAGATAGTACAATCTAACGTAAACACTCCTT...</td>\n",
       "    </tr>\n",
       "    <tr>\n",
       "      <th>3</th>\n",
       "      <td>Shuffled Promoters</td>\n",
       "      <td>TAACAACAATGCCAGTCATGTAGGTGTAGACCATGGCTTCAGGGTG...</td>\n",
       "    </tr>\n",
       "    <tr>\n",
       "      <th>4</th>\n",
       "      <td>Shuffled Promoters</td>\n",
       "      <td>TAAGTTCTGCGGCAGGTGGTATTTAGTGCACCGGGTCTGCTTAAGT...</td>\n",
       "    </tr>\n",
       "  </tbody>\n",
       "</table>\n",
       "</div>"
      ],
      "text/plain": [
       "                    Y                                                  X\n",
       "0  Shuffled Promoters  TTGTAGTAGCAGGCGTCAAGATGTAAAATGGCCATGTACTTAATGA...\n",
       "1  Shuffled Promoters  GCCCTAACCTGAGTACGCCGGTTCACCAAACCGCAACTTGAACTGA...\n",
       "2  Shuffled Promoters  CAGCGATAGGTTAATGAGATAGTACAATCTAACGTAAACACTCCTT...\n",
       "3  Shuffled Promoters  TAACAACAATGCCAGTCATGTAGGTGTAGACCATGGCTTCAGGGTG...\n",
       "4  Shuffled Promoters  TAAGTTCTGCGGCAGGTGGTATTTAGTGCACCGGGTCTGCTTAAGT..."
      ]
     },
     "execution_count": 36,
     "metadata": {},
     "output_type": "execute_result"
    }
   ],
   "source": [
    "def shuffler(sequence, k_let):\n",
    "    \n",
    "    length = [sequence[i:i+k_let] for i in range(0,len(sequence),k_let)]\n",
    "    np.random.shuffle(length)\n",
    "    \n",
    "    return ''.join(length)\n",
    "\n",
    "k_let = 1\n",
    "df_terminator = df_promoter_shuffle['X'].apply(shuffler,args = [k_let])\n",
    "df_terminator = pd.concat([df_promoter_shuffle['Y'], df_terminator],axis=1)\n",
    "df_terminator.head()"
   ]
  },
  {
   "cell_type": "code",
   "execution_count": 37,
   "metadata": {},
   "outputs": [
    {
     "data": {
      "text/plain": [
       "(6125, 2)"
      ]
     },
     "execution_count": 37,
     "metadata": {},
     "output_type": "execute_result"
    }
   ],
   "source": [
    "df_terminator.shape"
   ]
  },
  {
   "cell_type": "code",
   "execution_count": 38,
   "metadata": {},
   "outputs": [
    {
     "data": {
      "text/plain": [
       "(12244, 2)"
      ]
     },
     "execution_count": 38,
     "metadata": {},
     "output_type": "execute_result"
    }
   ],
   "source": [
    "df = pd.concat([df_promoter,df_terminator],axis=0)\n",
    "df = df[df['X'].str.len() == 1000]\n",
    "df.shape"
   ]
  },
  {
   "cell_type": "code",
   "execution_count": 39,
   "metadata": {},
   "outputs": [
    {
     "name": "stdout",
     "output_type": "stream",
     "text": [
      "1000    12244\n",
      "Name: X, dtype: int64\n"
     ]
    }
   ],
   "source": [
    "print(df['X'].str.len().value_counts())  # All the sequences have equal length\n",
    "df.reset_index(inplace = True)\n",
    "df.drop(['index'], axis = 1, inplace= True)"
   ]
  },
  {
   "cell_type": "code",
   "execution_count": 40,
   "metadata": {},
   "outputs": [
    {
     "data": {
      "text/html": [
       "<div>\n",
       "<style scoped>\n",
       "    .dataframe tbody tr th:only-of-type {\n",
       "        vertical-align: middle;\n",
       "    }\n",
       "\n",
       "    .dataframe tbody tr th {\n",
       "        vertical-align: top;\n",
       "    }\n",
       "\n",
       "    .dataframe thead th {\n",
       "        text-align: right;\n",
       "    }\n",
       "</style>\n",
       "<table border=\"1\" class=\"dataframe\">\n",
       "  <thead>\n",
       "    <tr style=\"text-align: right;\">\n",
       "      <th></th>\n",
       "      <th>Y</th>\n",
       "      <th>X</th>\n",
       "    </tr>\n",
       "  </thead>\n",
       "  <tbody>\n",
       "    <tr>\n",
       "      <th>0</th>\n",
       "      <td>Fungus_Promoter</td>\n",
       "      <td>ACCCGTTCGTAAAATTGGCGTTTGTCTCTAGTTTGCGATAGTGTAG...</td>\n",
       "    </tr>\n",
       "    <tr>\n",
       "      <th>1</th>\n",
       "      <td>Fungus_Promoter</td>\n",
       "      <td>ACATATCAAACTACAATAATACTGCCCTGCTAAATTAGCGGTACCC...</td>\n",
       "    </tr>\n",
       "    <tr>\n",
       "      <th>2</th>\n",
       "      <td>Fungus_Promoter</td>\n",
       "      <td>GAGTAGAGCAACCAACTCACAATGCATAACTAAGATACAAACTTTA...</td>\n",
       "    </tr>\n",
       "    <tr>\n",
       "      <th>3</th>\n",
       "      <td>Fungus_Promoter</td>\n",
       "      <td>AACACTTATTTTATTGTGGTAATATTTTTTGATAACAACACATCTG...</td>\n",
       "    </tr>\n",
       "    <tr>\n",
       "      <th>4</th>\n",
       "      <td>Fungus_Promoter</td>\n",
       "      <td>AATTACTTCATCATTACCACCTGTTACCAGTACAACAACAAGTCAG...</td>\n",
       "    </tr>\n",
       "  </tbody>\n",
       "</table>\n",
       "</div>"
      ],
      "text/plain": [
       "                 Y                                                  X\n",
       "0  Fungus_Promoter  ACCCGTTCGTAAAATTGGCGTTTGTCTCTAGTTTGCGATAGTGTAG...\n",
       "1  Fungus_Promoter  ACATATCAAACTACAATAATACTGCCCTGCTAAATTAGCGGTACCC...\n",
       "2  Fungus_Promoter  GAGTAGAGCAACCAACTCACAATGCATAACTAAGATACAAACTTTA...\n",
       "3  Fungus_Promoter  AACACTTATTTTATTGTGGTAATATTTTTTGATAACAACACATCTG...\n",
       "4  Fungus_Promoter  AATTACTTCATCATTACCACCTGTTACCAGTACAACAACAAGTCAG..."
      ]
     },
     "execution_count": 40,
     "metadata": {},
     "output_type": "execute_result"
    }
   ],
   "source": [
    "#df.tail()\n",
    "df.head()"
   ]
  },
  {
   "cell_type": "code",
   "execution_count": 41,
   "metadata": {},
   "outputs": [
    {
     "data": {
      "text/html": [
       "<div>\n",
       "<style scoped>\n",
       "    .dataframe tbody tr th:only-of-type {\n",
       "        vertical-align: middle;\n",
       "    }\n",
       "\n",
       "    .dataframe tbody tr th {\n",
       "        vertical-align: top;\n",
       "    }\n",
       "\n",
       "    .dataframe thead th {\n",
       "        text-align: right;\n",
       "    }\n",
       "</style>\n",
       "<table border=\"1\" class=\"dataframe\">\n",
       "  <thead>\n",
       "    <tr style=\"text-align: right;\">\n",
       "      <th></th>\n",
       "      <th>Y</th>\n",
       "      <th>X</th>\n",
       "    </tr>\n",
       "  </thead>\n",
       "  <tbody>\n",
       "    <tr>\n",
       "      <th>12239</th>\n",
       "      <td>Shuffled Promoters</td>\n",
       "      <td>ATTAAATAGAGGATGCCTAAAATAATTTAGATGCTAGCGCCGAAGT...</td>\n",
       "    </tr>\n",
       "    <tr>\n",
       "      <th>12240</th>\n",
       "      <td>Shuffled Promoters</td>\n",
       "      <td>CTTTACAATGGAACTATATTGTATCAACAAGGAACGAGGCTATGGG...</td>\n",
       "    </tr>\n",
       "    <tr>\n",
       "      <th>12241</th>\n",
       "      <td>Shuffled Promoters</td>\n",
       "      <td>CACTACAAGCAGACTTACTTAATGTGACTAATCGCTGGGAAGGTGT...</td>\n",
       "    </tr>\n",
       "    <tr>\n",
       "      <th>12242</th>\n",
       "      <td>Shuffled Promoters</td>\n",
       "      <td>ATTAAAGAACGTCGGAATCGCATTAAATATGGTCTTGCTTCTATAA...</td>\n",
       "    </tr>\n",
       "    <tr>\n",
       "      <th>12243</th>\n",
       "      <td>Shuffled Promoters</td>\n",
       "      <td>AGGGCATGGTGCAAGCCTCAGGAATGAATCATATTTCATTCTTAAT...</td>\n",
       "    </tr>\n",
       "  </tbody>\n",
       "</table>\n",
       "</div>"
      ],
      "text/plain": [
       "                        Y                                                  X\n",
       "12239  Shuffled Promoters  ATTAAATAGAGGATGCCTAAAATAATTTAGATGCTAGCGCCGAAGT...\n",
       "12240  Shuffled Promoters  CTTTACAATGGAACTATATTGTATCAACAAGGAACGAGGCTATGGG...\n",
       "12241  Shuffled Promoters  CACTACAAGCAGACTTACTTAATGTGACTAATCGCTGGGAAGGTGT...\n",
       "12242  Shuffled Promoters  ATTAAAGAACGTCGGAATCGCATTAAATATGGTCTTGCTTCTATAA...\n",
       "12243  Shuffled Promoters  AGGGCATGGTGCAAGCCTCAGGAATGAATCATATTTCATTCTTAAT..."
      ]
     },
     "execution_count": 41,
     "metadata": {},
     "output_type": "execute_result"
    }
   ],
   "source": [
    "df.tail()"
   ]
  },
  {
   "cell_type": "code",
   "execution_count": 42,
   "metadata": {},
   "outputs": [
    {
     "data": {
      "text/html": [
       "<div>\n",
       "<style scoped>\n",
       "    .dataframe tbody tr th:only-of-type {\n",
       "        vertical-align: middle;\n",
       "    }\n",
       "\n",
       "    .dataframe tbody tr th {\n",
       "        vertical-align: top;\n",
       "    }\n",
       "\n",
       "    .dataframe thead th {\n",
       "        text-align: right;\n",
       "    }\n",
       "</style>\n",
       "<table border=\"1\" class=\"dataframe\">\n",
       "  <thead>\n",
       "    <tr style=\"text-align: right;\">\n",
       "      <th></th>\n",
       "      <th>Y</th>\n",
       "      <th>X</th>\n",
       "    </tr>\n",
       "  </thead>\n",
       "  <tbody>\n",
       "    <tr>\n",
       "      <th>count</th>\n",
       "      <td>12244</td>\n",
       "      <td>12244</td>\n",
       "    </tr>\n",
       "    <tr>\n",
       "      <th>unique</th>\n",
       "      <td>2</td>\n",
       "      <td>12164</td>\n",
       "    </tr>\n",
       "    <tr>\n",
       "      <th>top</th>\n",
       "      <td>Shuffled Promoters</td>\n",
       "      <td>AATAAAGAATGTAAATAATATATATATAATATAATATAATATAAAA...</td>\n",
       "    </tr>\n",
       "    <tr>\n",
       "      <th>freq</th>\n",
       "      <td>6122</td>\n",
       "      <td>6</td>\n",
       "    </tr>\n",
       "  </tbody>\n",
       "</table>\n",
       "</div>"
      ],
      "text/plain": [
       "                         Y                                                  X\n",
       "count                12244                                              12244\n",
       "unique                   2                                              12164\n",
       "top     Shuffled Promoters  AATAAAGAATGTAAATAATATATATATAATATAATATAATATAAAA...\n",
       "freq                  6122                                                  6"
      ]
     },
     "execution_count": 42,
     "metadata": {},
     "output_type": "execute_result"
    },
    {
     "data": {
      "image/png": "[encoded data removed]",
      "text/plain": [
       "<Figure size 432x288 with 1 Axes>"
      ]
     },
     "metadata": {
      "needs_background": "light"
     },
     "output_type": "display_data"
    }
   ],
   "source": [
    "df['Y'].value_counts().plot('bar',color = 'turquoise')\n",
    "df.describe()"
   ]
  },
  {
   "cell_type": "markdown",
   "metadata": {},
   "source": [
    "### To remove duplicate samples from df['X']"
   ]
  },
  {
   "cell_type": "code",
   "execution_count": 43,
   "metadata": {},
   "outputs": [],
   "source": [
    "labels = df['Y']\n",
    "X = df['X']\n",
    "X_drop_dup = X.drop_duplicates()\n",
    "idx = X_drop_dup.index\n",
    "data = np.array(df)\n",
    "df_final = pd.DataFrame(data[idx])\n",
    "\n",
    "df_final.columns = ['Y','X']\n",
    "#df_final.tail() # New dataframe with recurring samples eliminated\n",
    "#df_final.head()"
   ]
  },
  {
   "cell_type": "markdown",
   "metadata": {},
   "source": [
    "### Plot of class samples count for df_final"
   ]
  },
  {
   "cell_type": "code",
   "execution_count": null,
   "metadata": {},
   "outputs": [],
   "source": [
    "df_final['Y'].value_counts().plot('bar',color = 'orange')"
   ]
  },
  {
   "cell_type": "code",
   "execution_count": 45,
   "metadata": {},
   "outputs": [],
   "source": [
    "#Choosing Training sample count:\n",
    "limit = 6000\n",
    "df_final_promoter= df_final[df_final['Y'] == 'Fungus_Promoter'][:limit]\n",
    "df_final_terminator=df_final[df_final['Y'] == 'Shuffled Promoters'][:limit]"
   ]
  },
  {
   "cell_type": "code",
   "execution_count": null,
   "metadata": {},
   "outputs": [],
   "source": [
    "df_final = pd.concat([df_final_promoter,df_final_terminator],ignore_index=True)\n",
    "df_final.tail() # New dataframe with recurring samples eliminated\n",
    "df_final.head()"
   ]
  },
  {
   "cell_type": "code",
   "execution_count": 47,
   "metadata": {},
   "outputs": [],
   "source": [
    "df_final.reset_index(inplace = True)\n",
    "df_final.drop(['index'], axis = 1, inplace= True)"
   ]
  },
  {
   "cell_type": "code",
   "execution_count": 48,
   "metadata": {},
   "outputs": [
    {
     "data": {
      "text/plain": [
       "<matplotlib.axes._subplots.AxesSubplot at 0x19df1275390>"
      ]
     },
     "execution_count": 48,
     "metadata": {},
     "output_type": "execute_result"
    },
    {
     "data": {
      "image/png": "[encoded data removed]",
      "text/plain": [
       "<Figure size 432x288 with 1 Axes>"
      ]
     },
     "metadata": {
      "needs_background": "light"
     },
     "output_type": "display_data"
    }
   ],
   "source": [
    "df_final['Y'].value_counts().plot('bar',color = 'orange')"
   ]
  },
  {
   "cell_type": "code",
   "execution_count": 49,
   "metadata": {},
   "outputs": [],
   "source": [
    "def getKmers(X, size=4):\n",
    "    return [X[x:x+size].lower() for x in range(len(X) - size + 1)]\n",
    "\n",
    "df_final['words']=df_final.apply(lambda x: getKmers(x['X']), axis=1)\n",
    "df_final.drop('X',axis=1, inplace= True)\n",
    "\n"
   ]
  },
  {
   "cell_type": "code",
   "execution_count": null,
   "metadata": {},
   "outputs": [],
   "source": [
    "model.summary()"
   ]
  },
  {
   "cell_type": "code",
   "execution_count": 51,
   "metadata": {},
   "outputs": [],
   "source": [
    "from sklearn.preprocessing import LabelEncoder\n",
    "from keras.preprocessing import sequence\n",
    "Y = df_final.Y\n",
    "le = LabelEncoder()\n",
    "Y = le.fit_transform(Y)\n",
    "df_texts = list(df_final['words'])\n",
    "for item in range(len(df_texts)):\n",
    "    df_texts[item] = ' '.join(df_texts[item])\n",
    "X=df_texts\n",
    "max_len = 997\n",
    "tok = Tokenizer(num_words=None)\n",
    "tok.fit_on_texts(X)\n",
    "vocab_size = len(tok.word_index) + 1\n",
    "sequences = tok.texts_to_sequences(X)\n",
    "sequences_matrix = sequence.pad_sequences(sequences,maxlen=None)"
   ]
  },
  {
   "cell_type": "code",
   "execution_count": 52,
   "metadata": {},
   "outputs": [
    {
     "name": "stdout",
     "output_type": "stream",
     "text": [
      "(12000, 997)\n"
     ]
    }
   ],
   "source": [
    "print(sequences_matrix.shape)"
   ]
  },
  {
   "cell_type": "code",
   "execution_count": 53,
   "metadata": {},
   "outputs": [
    {
     "data": {
      "text/plain": [
       "array(['Fungus_Promoter', 'Shuffled Promoters'], dtype=object)"
      ]
     },
     "execution_count": 53,
     "metadata": {},
     "output_type": "execute_result"
    }
   ],
   "source": [
    "le.inverse_transform([0,1])\n"
   ]
  },
  {
   "cell_type": "code",
   "execution_count": 54,
   "metadata": {},
   "outputs": [],
   "source": [
    "X_train,X_test,Y_train,Y_test = train_test_split(sequences_matrix,Y,test_size=0.10)\n",
    "\n",
    "X_train, X_val, Y_train, Y_val = train_test_split(X_train, Y_train, test_size=0.10) "
   ]
  },
  {
   "cell_type": "code",
   "execution_count": 55,
   "metadata": {},
   "outputs": [
    {
     "name": "stdout",
     "output_type": "stream",
     "text": [
      "10800\n",
      "997\n"
     ]
    }
   ],
   "source": [
    "print(X_train.shape[0])\n",
    "print(X_train.shape[1])"
   ]
  },
  {
   "cell_type": "code",
   "execution_count": null,
   "metadata": {},
   "outputs": [],
   "source": [
    "from keras.layers import Embedding\n",
    "model = Sequential()\n",
    "model.add(Embedding(vocab_size,128,input_length=max_len))\n",
    "model.add(Conv1D(filters=128, kernel_size=5,padding='same'))\n",
    "model.add(MaxPooling1D(pool_size=4))\n",
    "\n",
    "model.add(Conv1D(filters=64, kernel_size=5, padding='same'))\n",
    "model.add(MaxPooling1D(pool_size=4))\n",
    "\n",
    "model.add(Conv1D(filters=32, kernel_size=5, padding='same'))\n",
    "model.add(MaxPooling1D(pool_size=4))\n",
    "\n",
    "model.add(Dense(1024, activation='relu'))\n",
    "model.add(Dropout(0.2))\n",
    "\n",
    "model.add(Dense(512, activation='relu'))\n",
    "model.add(Dropout(0.2))\n",
    "\n",
    "model.add(Dense(128, activation='relu'))\n",
    "model.add(Dropout(0.2))\n",
    "\n",
    "model.add(Flatten())\n",
    "model.add(Dense(1, activation='sigmoid'))"
   ]
  },
  {
   "cell_type": "code",
   "execution_count": 56,
   "metadata": {},
   "outputs": [],
   "source": [
    "from keras.layers import Embedding\n",
    "from keras.layers import LSTM, Activation, Dense, Dropout, Input, Embedding, Bidirectional, Flatten\n",
    "from keras.models import Model\n",
    "def RNN():\n",
    "    inputs = Input(name='inputs',shape=[max_len])\n",
    "    layer = Embedding(vocab_size,50,input_length=max_len)(inputs)\n",
    "    layer = LSTM(128)(layer)\n",
    "    layer = Dense(64,name='FC1')(layer)\n",
    "    layer = Activation('relu')(layer)\n",
    "    layer = Dropout(0.5)(layer)\n",
    "    layer = Dense(1,name='out_layer')(layer)\n",
    "    layer = Activation('sigmoid')(layer)\n",
    "    model = Model(inputs=inputs,outputs=layer)\n",
    "    return model\n",
    "\n",
    "model = RNN()"
   ]
  },
  {
   "cell_type": "code",
   "execution_count": null,
   "metadata": {},
   "outputs": [],
   "source": [
    "model.summary()"
   ]
  },
  {
   "cell_type": "code",
   "execution_count": null,
   "metadata": {},
   "outputs": [],
   "source": [
    "model.compile(loss='binary_crossentropy',optimizer='adam',metrics=['accuracy'])\n",
    "\n",
    "#model.compile(loss = \"categorical_crossentropy\", optimizer = opt)"
   ]
  },
  {
   "cell_type": "code",
   "execution_count": 30,
   "metadata": {},
   "outputs": [
    {
     "name": "stdout",
     "output_type": "stream",
     "text": [
      "Training Time Starts\n"
     ]
    }
   ],
   "source": [
    "import time\n",
    "start_time=time.time()\n",
    "print(\"Training Time Starts\")"
   ]
  },
  {
   "cell_type": "code",
   "execution_count": null,
   "metadata": {},
   "outputs": [],
   "source": [
    "model.fit(X_train,Y_train,batch_size=128,epochs=10,callbacks=[EarlyStopping(monitor='val_loss',min_delta=0.0001)])\n"
   ]
  },
  {
   "cell_type": "code",
   "execution_count": null,
   "metadata": {},
   "outputs": [],
   "source": [
    "xx=(time.time()) - (start_time)\n"
   ]
  },
  {
   "cell_type": "code",
   "execution_count": null,
   "metadata": {},
   "outputs": [],
   "source": [
    "xx"
   ]
  },
  {
   "cell_type": "code",
   "execution_count": null,
   "metadata": {},
   "outputs": [],
   "source": [
    "y_pred1 = model.predict(X_val)\n",
    "confuse = confusion_matrix(Y_val, y_pred1.round())\n",
    "\n",
    "print(confuse)\n",
    "\n",
    "TP=confuse[1][1]\n",
    "FP=confuse[0][1]\n",
    "FN=confuse[1][0]\n",
    "TN=confuse[0][0]\n",
    "\n",
    "accuracy= (TP + TN) / (TP + TN + FP + FN)\n",
    "precision = TP / (TP + FP)\n",
    "recall = TP / (TP + FN)\n",
    "F=2*(precision * recall)/(precision + recall)\n",
    "specificity= TN / (TN + FP) \n",
    "Error_Rate= (FP + FN)/(TP + FP + TN + FN)\n",
    "CC=((TP*TN)-(FP*FN))/(math.sqrt((TP+FP)*(TP+FN)*(TN+FP)*(TN+FN)))\n",
    "\n",
    "print(\"accuracy {:0.2f}\".format(accuracy))\n",
    "print(\"Precision {:0.2f}\".format(precision))\n",
    "print(\"Recall/Sensitivity {:0.2f}\".format(recall))\n",
    "print(\"F1 Score {:0.2f}\".format(F))\n",
    "print(\"Specificity {:0.2f}\".format(specificity))\n",
    "print(\"Error_Rate {:0.2f}\".format(Error_Rate))\n",
    "print(\"correlation Coefficient {:0.2f}\".format(CC))"
   ]
  },
  {
   "cell_type": "code",
   "execution_count": null,
   "metadata": {},
   "outputs": [],
   "source": [
    "y_pred1 = model.predict(X_test)\n",
    "confuse = confusion_matrix(Y_test, y_pred1.round())\n",
    "\n",
    "print(confuse)\n",
    "\n",
    "TP=confuse[1][1]\n",
    "FP=confuse[0][1]\n",
    "FN=confuse[1][0]\n",
    "TN=confuse[0][0]\n",
    "\n",
    "accuracy= (TP + TN) / (TP + TN + FP + FN)\n",
    "precision = TP / (TP + FP)\n",
    "recall = TP / (TP + FN)\n",
    "F=2*(precision * recall)/(precision + recall)\n",
    "specificity= TN / (TN + FP) \n",
    "Error_Rate= (FP + FN)/(TP + FP + TN + FN)\n",
    "CC=((TP*TN)-(FP*FN))/(math.sqrt((TP+FP)*(TP+FN)*(TN+FP)*(TN+FN)))\n",
    "\n",
    "print(\"accuracy {:0.2f}\".format(accuracy))\n",
    "print(\"Precision {:0.2f}\".format(precision))\n",
    "print(\"Recall/Sensitivity {:0.2f}\".format(recall))\n",
    "print(\"F1 Score {:0.2f}\".format(F))\n",
    "print(\"Specificity {:0.2f}\".format(specificity))\n",
    "print(\"Error_Rate {:0.2f}\".format(Error_Rate))\n",
    "print(\"correlation Coefficient {:0.2f}\".format(CC))\n"
   ]
  },
  {
   "cell_type": "code",
   "execution_count": null,
   "metadata": {},
   "outputs": [],
   "source": [
    "df_random = pd.read_csv(\"Random Sequences Human_test data.csv\",names = ['Y', 'X'])\n",
    "df_random.drop(df_random.index[0])"
   ]
  },
  {
   "cell_type": "code",
   "execution_count": 28,
   "metadata": {},
   "outputs": [],
   "source": [
    "df_random.reset_index(inplace = True)\n",
    "df_random.drop(['index'], axis = 1, inplace= True)"
   ]
  },
  {
   "cell_type": "code",
   "execution_count": 29,
   "metadata": {},
   "outputs": [],
   "source": [
    "df_random = df_random[df_random['X'].str.len() == 1000]"
   ]
  },
  {
   "cell_type": "code",
   "execution_count": 30,
   "metadata": {},
   "outputs": [],
   "source": [
    "df_random.reset_index(inplace = True)\n",
    "df_random.drop(['index'], axis = 1, inplace= True)"
   ]
  },
  {
   "cell_type": "code",
   "execution_count": 31,
   "metadata": {},
   "outputs": [
    {
     "data": {
      "text/html": [
       "<div>\n",
       "<style scoped>\n",
       "    .dataframe tbody tr th:only-of-type {\n",
       "        vertical-align: middle;\n",
       "    }\n",
       "\n",
       "    .dataframe tbody tr th {\n",
       "        vertical-align: top;\n",
       "    }\n",
       "\n",
       "    .dataframe thead th {\n",
       "        text-align: right;\n",
       "    }\n",
       "</style>\n",
       "<table border=\"1\" class=\"dataframe\">\n",
       "  <thead>\n",
       "    <tr style=\"text-align: right;\">\n",
       "      <th></th>\n",
       "      <th>Y</th>\n",
       "      <th>X</th>\n",
       "    </tr>\n",
       "  </thead>\n",
       "  <tbody>\n",
       "    <tr>\n",
       "      <th>0</th>\n",
       "      <td>Shuffled Promoters</td>\n",
       "      <td>AAAAAAAAAAGTTCTAAAAGTTGTGACTTGGGTGTGGCAGATTGTG...</td>\n",
       "    </tr>\n",
       "    <tr>\n",
       "      <th>1</th>\n",
       "      <td>Shuffled Promoters</td>\n",
       "      <td>AAAAAAAATATTTGACCCATCTCGTCTCTACCCTGAATTTCCCTGA...</td>\n",
       "    </tr>\n",
       "    <tr>\n",
       "      <th>2</th>\n",
       "      <td>Shuffled Promoters</td>\n",
       "      <td>AAAAATACAAAAAATTAGCCGGGCGTGGTGGCGGGCGCCTGTAGTC...</td>\n",
       "    </tr>\n",
       "    <tr>\n",
       "      <th>3</th>\n",
       "      <td>Shuffled Promoters</td>\n",
       "      <td>AAAACAGTATATTGAGTGGTGGACAGTATTTCACCATTGGTACAAG...</td>\n",
       "    </tr>\n",
       "    <tr>\n",
       "      <th>4</th>\n",
       "      <td>Shuffled Promoters</td>\n",
       "      <td>AAAACCTCACTGGTGGCTTGACATGGTATTAATCAAGGAGAATGTT...</td>\n",
       "    </tr>\n",
       "  </tbody>\n",
       "</table>\n",
       "</div>"
      ],
      "text/plain": [
       "                    Y                                                  X\n",
       "0  Shuffled Promoters  AAAAAAAAAAGTTCTAAAAGTTGTGACTTGGGTGTGGCAGATTGTG...\n",
       "1  Shuffled Promoters  AAAAAAAATATTTGACCCATCTCGTCTCTACCCTGAATTTCCCTGA...\n",
       "2  Shuffled Promoters  AAAAATACAAAAAATTAGCCGGGCGTGGTGGCGGGCGCCTGTAGTC...\n",
       "3  Shuffled Promoters  AAAACAGTATATTGAGTGGTGGACAGTATTTCACCATTGGTACAAG...\n",
       "4  Shuffled Promoters  AAAACCTCACTGGTGGCTTGACATGGTATTAATCAAGGAGAATGTT..."
      ]
     },
     "execution_count": 31,
     "metadata": {},
     "output_type": "execute_result"
    }
   ],
   "source": [
    "df_random.head()"
   ]
  },
  {
   "cell_type": "code",
   "execution_count": 32,
   "metadata": {},
   "outputs": [
    {
     "data": {
      "text/html": [
       "<div>\n",
       "<style scoped>\n",
       "    .dataframe tbody tr th:only-of-type {\n",
       "        vertical-align: middle;\n",
       "    }\n",
       "\n",
       "    .dataframe tbody tr th {\n",
       "        vertical-align: top;\n",
       "    }\n",
       "\n",
       "    .dataframe thead th {\n",
       "        text-align: right;\n",
       "    }\n",
       "</style>\n",
       "<table border=\"1\" class=\"dataframe\">\n",
       "  <thead>\n",
       "    <tr style=\"text-align: right;\">\n",
       "      <th></th>\n",
       "      <th>Y</th>\n",
       "      <th>X</th>\n",
       "    </tr>\n",
       "  </thead>\n",
       "  <tbody>\n",
       "    <tr>\n",
       "      <th>558</th>\n",
       "      <td>Shuffled Promoters</td>\n",
       "      <td>TTTTATTCATTGCCTATACTTTTATTTCTAAACTTTCTGTAACACT...</td>\n",
       "    </tr>\n",
       "    <tr>\n",
       "      <th>559</th>\n",
       "      <td>Shuffled Promoters</td>\n",
       "      <td>TTTTCATGATGCCTGTCACATTCTGAAATGGAATGCAGTTAATTTC...</td>\n",
       "    </tr>\n",
       "    <tr>\n",
       "      <th>560</th>\n",
       "      <td>Shuffled Promoters</td>\n",
       "      <td>TTTTGAGATTCCTTCATATTCAGCACTTGGCTGTATTCAACTTCAT...</td>\n",
       "    </tr>\n",
       "    <tr>\n",
       "      <th>561</th>\n",
       "      <td>Shuffled Promoters</td>\n",
       "      <td>TTTTTGTAGCATCTGCAAGTGGATATTTGGACCTCTCTGAGGATTT...</td>\n",
       "    </tr>\n",
       "    <tr>\n",
       "      <th>562</th>\n",
       "      <td>Shuffled Promoters</td>\n",
       "      <td>TTTTTTGGAAGGTAGACACTGGACTCCTGGAAGGACATGCACTGTG...</td>\n",
       "    </tr>\n",
       "  </tbody>\n",
       "</table>\n",
       "</div>"
      ],
      "text/plain": [
       "                      Y                                                  X\n",
       "558  Shuffled Promoters  TTTTATTCATTGCCTATACTTTTATTTCTAAACTTTCTGTAACACT...\n",
       "559  Shuffled Promoters  TTTTCATGATGCCTGTCACATTCTGAAATGGAATGCAGTTAATTTC...\n",
       "560  Shuffled Promoters  TTTTGAGATTCCTTCATATTCAGCACTTGGCTGTATTCAACTTCAT...\n",
       "561  Shuffled Promoters  TTTTTGTAGCATCTGCAAGTGGATATTTGGACCTCTCTGAGGATTT...\n",
       "562  Shuffled Promoters  TTTTTTGGAAGGTAGACACTGGACTCCTGGAAGGACATGCACTGTG..."
      ]
     },
     "execution_count": 32,
     "metadata": {},
     "output_type": "execute_result"
    }
   ],
   "source": [
    "df_random.tail()"
   ]
  },
  {
   "cell_type": "code",
   "execution_count": 33,
   "metadata": {},
   "outputs": [],
   "source": [
    "df_random['words']=df_random.apply(lambda x: getKmers(x['X']), axis=1)\n",
    "df_random.drop('X',axis=1, inplace= True)"
   ]
  },
  {
   "cell_type": "code",
   "execution_count": 34,
   "metadata": {},
   "outputs": [],
   "source": [
    "Y2 = df_random.Y\n",
    "#le2 = LabelEncoder()\n",
    "Y2 = le.transform(Y2)\n",
    "df_texts2 = list(df_random['words'])\n",
    "for item in range(len(df_texts2)):\n",
    "    df_texts2[item] = ' '.join(df_texts2[item])\n",
    "X2=df_texts2\n",
    "#max_len = 999\n",
    "sequences2 = tok.texts_to_sequences(X2)\n",
    "sequences_matrix2 = sequence.pad_sequences(sequences2,maxlen=None)"
   ]
  },
  {
   "cell_type": "code",
   "execution_count": 35,
   "metadata": {},
   "outputs": [
    {
     "data": {
      "text/plain": [
       "numpy.ndarray"
      ]
     },
     "execution_count": 35,
     "metadata": {},
     "output_type": "execute_result"
    }
   ],
   "source": [
    "type(sequences_matrix2)"
   ]
  },
  {
   "cell_type": "code",
   "execution_count": 36,
   "metadata": {},
   "outputs": [],
   "source": [
    "sequence_matrix_concat=np.concatenate((sequences_matrix2, X_test), axis=0)"
   ]
  },
  {
   "cell_type": "code",
   "execution_count": 37,
   "metadata": {},
   "outputs": [],
   "source": [
    "Y_test_concat=np.concatenate((Y2, Y_test), axis=0)"
   ]
  },
  {
   "cell_type": "code",
   "execution_count": null,
   "metadata": {},
   "outputs": [],
   "source": [
    "y_pred1 = model.predict(sequence_matrix_concat)\n",
    "confuse = confusion_matrix(Y_test_concat, y_pred1.round())\n",
    "\n",
    "print(confuse)\n",
    "\n",
    "TP=confuse[1][1]\n",
    "FP=confuse[0][1]\n",
    "FN=confuse[1][0]\n",
    "TN=confuse[0][0]\n",
    "\n",
    "accuracy= (TP + TN) / (TP + TN + FP + FN)\n",
    "precision = TP / (TP + FP)\n",
    "recall = TP / (TP + FN)\n",
    "F=2*(precision * recall)/(precision + recall)\n",
    "specificity= TN / (TN + FP) \n",
    "Error_Rate= (FP + FN)/(TP + FP + TN + FN)\n",
    "CC=((TP*TN)-(FP*FN))/(math.sqrt((TP+FP)*(TP+FN)*(TN+FP)*(TN+FN)))\n",
    "\n",
    "print(\"accuracy {:0.2f}\".format(accuracy))\n",
    "print(\"Precision {:0.2f}\".format(precision))\n",
    "print(\"Recall/Sensitivity {:0.2f}\".format(recall))\n",
    "print(\"F1 Score {:0.2f}\".format(F))\n",
    "print(\"Specificity {:0.2f}\".format(specificity))\n",
    "print(\"Error_Rate {:0.2f}\".format(Error_Rate))\n",
    "print(\"correlation Coefficient {:0.2f}\".format(CC))\n",
    "\n",
    "\n",
    "    \n"
   ]
  },
  {
   "cell_type": "code",
   "execution_count": null,
   "metadata": {},
   "outputs": [],
   "source": [
    "print(\"Classification Report :\\n \", classification_report(Y_test, y_pred.round()))"
   ]
  },
  {
   "cell_type": "code",
   "execution_count": null,
   "metadata": {},
   "outputs": [],
   "source": [
    "from sklearn.metrics import  classification_report,accuracy_score, multilabel_confusion_matrix, matthews_corrcoef, f1_score, recall_score, precision_score\n",
    "preds = model.predict(sequence_matrix_concat)\n",
    "#preds = np.argmax(preds, axis = 1)\n",
    "accuracy = accuracy_score(Y_test_concat, preds.round())\n",
    "recall = recall_score(Y_test_concat, preds.round(), average='macro')\n",
    "precision=precision_score(Y_test_concat, preds.round(), average='macro')\n",
    "f1=f1_score(Y_test_concat, preds.round(), average='macro')\n",
    "CC=matthews_corrcoef(Y_test_concat, preds.round())\n",
    "\n",
    "\n",
    "print(\"Classification Report :\\n \", classification_report(Y_test_concat, preds.round()))\n",
    "\n",
    "\n",
    "confuse1 = confusion_matrix(Y_test_concat, preds.round())\n",
    "print(confuse1)\n",
    "\n",
    "print(\"accuracy {:0.4f}\".format(accuracy))\n",
    "print(\"Precision {:0.4f}\".format(precision))\n",
    "print(\"Recall/Sensitivity {:0.4f}\".format(recall))\n",
    "print(\"F1 Score {:0.2f}\".format(f1))\n",
    "print(\"correlation Coefficient {:0.4f}\".format(CC))\n",
    "#print(sensitivity_specificity_support(Y_test, preds))"
   ]
  },
  {
   "cell_type": "markdown",
   "metadata": {},
   "source": [
    "from imblearn.metrics import sensitivity_specificity_support\n",
    "#sensitivity_specificity_support(Y_test, preds.round())\n",
    "sensitivity_specificity_support(Y_test_concat,preds.round(), average='binary')"
   ]
  },
  {
   "cell_type": "code",
   "execution_count": 39,
   "metadata": {},
   "outputs": [
    {
     "data": {
      "text/plain": [
       "RandomForestClassifier()"
      ]
     },
     "execution_count": 39,
     "metadata": {},
     "output_type": "execute_result"
    }
   ],
   "source": [
    "from sklearn.ensemble import ExtraTreesClassifier, GradientBoostingClassifier, RandomForestClassifier\n",
    "\n",
    "mdl = RandomForestClassifier(n_estimators=400, min_sample_split=2, max_feature='auto', bootstrap= False)\n",
    "mdl.fit(X_train, Y_train)\n"
   ]
  },
  {
   "cell_type": "code",
   "execution_count": 40,
   "metadata": {},
   "outputs": [
    {
     "name": "stdout",
     "output_type": "stream",
     "text": [
      "[[2178  866]\n",
      " [ 794 2725]]\n",
      "accuracy 0.75\n",
      "Precision 0.76\n",
      "Recall/Sensitivity 0.77\n",
      "F1 Score 0.77\n",
      "Specificity 0.72\n",
      "Error_Rate 0.25\n",
      "correlation Coefficient 0.49\n"
     ]
    }
   ],
   "source": [
    "y_preds3 = mdl.predict(sequence_matrix_concat)\n",
    "confuse = confusion_matrix(Y_test_concat, y_preds3.round())\n",
    "print(confuse)\n",
    "\n",
    "TP=confuse[1][1]\n",
    "FP=confuse[0][1]\n",
    "FN=confuse[1][0]\n",
    "TN=confuse[0][0]\n",
    "\n",
    "accuracy= (TP + TN) / (TP + TN + FP + FN)\n",
    "precision = TP / (TP + FP)\n",
    "recall = TP / (TP + FN)\n",
    "F=2*(precision * recall)/(precision + recall)\n",
    "specificity= TN / (TN + FP) \n",
    "Error_Rate= (FP + FN)/(TP + FP + TN + FN)\n",
    "CC=((TP*TN)-(FP*FN))/(math.sqrt((TP+FP)*(TP+FN)*(TN+FP)*(TN+FN)))\n",
    "\n",
    "print(\"accuracy {:0.2f}\".format(accuracy))\n",
    "print(\"Precision {:0.2f}\".format(precision))\n",
    "print(\"Recall/Sensitivity {:0.2f}\".format(recall))\n",
    "print(\"F1 Score {:0.2f}\".format(F))\n",
    "print(\"Specificity {:0.2f}\".format(specificity))\n",
    "print(\"Error_Rate {:0.2f}\".format(Error_Rate))\n",
    "print(\"correlation Coefficient {:0.2f}\".format(CC))"
   ]
  },
  {
   "cell_type": "code",
   "execution_count": null,
   "metadata": {},
   "outputs": [],
   "source": []
  },
  {
   "cell_type": "code",
   "execution_count": null,
   "metadata": {},
   "outputs": [],
   "source": []
  },
  {
   "cell_type": "code",
   "execution_count": null,
   "metadata": {},
   "outputs": [],
   "source": []
  },
  {
   "cell_type": "code",
   "execution_count": null,
   "metadata": {},
   "outputs": [],
   "source": []
  },
  {
   "cell_type": "code",
   "execution_count": null,
   "metadata": {},
   "outputs": [],
   "source": []
  },
  {
   "cell_type": "code",
   "execution_count": null,
   "metadata": {},
   "outputs": [],
   "source": []
  },
  {
   "cell_type": "code",
   "execution_count": null,
   "metadata": {},
   "outputs": [],
   "source": []
  }
 ],
 "metadata": {
  "kernelspec": {
   "display_name": "Python 3",
   "language": "python",
   "name": "python3"
  },
  "language_info": {
   "codemirror_mode": {
    "name": "ipython",
    "version": 3
   },
   "file_extension": ".py",
   "mimetype": "text/x-python",
   "name": "python",
   "nbconvert_exporter": "python",
   "pygments_lexer": "ipython3",
   "version": "3.7.3"
  }
 },
 "nbformat": 4,
 "nbformat_minor": 2
}
